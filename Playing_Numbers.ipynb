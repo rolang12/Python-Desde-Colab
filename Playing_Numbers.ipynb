{
  "nbformat": 4,
  "nbformat_minor": 0,
  "metadata": {
    "colab": {
      "name": "Playing_Numbers.ipynb",
      "provenance": [],
      "collapsed_sections": [
        "_bqp7gPdUR_Q",
        "o9cR-fFf0eUJ",
        "xDJEuS81LKwR",
        "JxuUV44E1d0I",
        "cDKHItvemA8c",
        "b41k15NVw4Ea",
        "TFLQHxKbAo2h",
        "7veoL_OBPGfW",
        "K1tx-CXDWdIE"
      ],
      "authorship_tag": "ABX9TyON6wRxRSXRBcLPxIKzavee",
      "include_colab_link": true
    },
    "kernelspec": {
      "name": "python3",
      "display_name": "Python 3"
    },
    "language_info": {
      "name": "python"
    }
  },
  "cells": [
    {
      "cell_type": "markdown",
      "metadata": {
        "id": "view-in-github",
        "colab_type": "text"
      },
      "source": [
        "<a href=\"https://colab.research.google.com/github/rolang12/Python_RolanPineres/blob/main/Playing_Numbers.ipynb\" target=\"_parent\"><img src=\"https://colab.research.google.com/assets/colab-badge.svg\" alt=\"Open In Colab\"/></a>"
      ]
    },
    {
      "cell_type": "markdown",
      "metadata": {
        "id": "_bqp7gPdUR_Q"
      },
      "source": [
        "## *Números Aleatorios*"
      ]
    },
    {
      "cell_type": "code",
      "metadata": {
        "colab": {
          "base_uri": "https://localhost:8080/"
        },
        "id": "K6HpxdKDUaxc",
        "outputId": "dc6a01a2-0b7c-4728-b731-58d4a0bbd7c7"
      },
      "source": [
        "import random\n",
        "\n",
        "l=[]\n",
        "t=0\n",
        "\n",
        "for i in range(10):\n",
        "    n=random.randint(5,50)\n",
        "    l=n\n",
        "    print(l)\n",
        "    \n"
      ],
      "execution_count": null,
      "outputs": [
        {
          "output_type": "stream",
          "text": [
            "32\n"
          ],
          "name": "stdout"
        }
      ]
    },
    {
      "cell_type": "code",
      "metadata": {
        "colab": {
          "base_uri": "https://localhost:8080/"
        },
        "id": "6Ljq-aMLbhy3",
        "outputId": "8467afb1-5d74-4480-b78e-f24f01248b26"
      },
      "source": [
        "import random\n",
        "\n",
        "l=[]\n",
        "t=0\n",
        "\n",
        "for i in range(20):\n",
        "    n=random.randrange(0,100,2)\n",
        "    l.append(n)\n",
        "print(l)\n",
        "    "
      ],
      "execution_count": null,
      "outputs": [
        {
          "output_type": "stream",
          "text": [
            "[94, 44, 52, 4, 86, 86, 26, 40, 18, 56, 44, 66, 44, 70, 78, 48, 46, 40, 10, 32]\n"
          ],
          "name": "stdout"
        }
      ]
    },
    {
      "cell_type": "code",
      "metadata": {
        "colab": {
          "base_uri": "https://localhost:8080/"
        },
        "id": "a_NikcMscqB5",
        "outputId": "f389a221-e603-4c3f-ddef-e8b814882750"
      },
      "source": [
        "import random\n",
        "\n",
        "l=[]\n",
        "t=0\n",
        "\n",
        "for i in range(10):\n",
        "    n=random.randrange(1,10)*5\n",
        "    l.append(n)\n",
        "print(l)"
      ],
      "execution_count": null,
      "outputs": [
        {
          "output_type": "stream",
          "text": [
            "[30, 20, 20, 30, 5, 5, 35, 15, 45, 25]\n"
          ],
          "name": "stdout"
        }
      ]
    },
    {
      "cell_type": "code",
      "metadata": {
        "colab": {
          "base_uri": "https://localhost:8080/"
        },
        "id": "owE4TJpDeTdl",
        "outputId": "0d9fd075-bb63-44aa-cc89-51e027a6112b"
      },
      "source": [
        "import random\n",
        "\n",
        "l=[]\n",
        "t=0\n",
        "n=0\n",
        "for i in range(20):\n",
        "    n+=1\n",
        "    l.append(n)\n",
        "print(l)\n",
        "print('-----------------------------------------------------------------------')\n",
        "y=[i for i in range(1,21)]\n",
        "\n",
        "random.shuffle(l)\n",
        "print(l)"
      ],
      "execution_count": null,
      "outputs": [
        {
          "output_type": "stream",
          "text": [
            "[1, 2, 3, 4, 5, 6, 7, 8, 9, 10, 11, 12, 13, 14, 15, 16, 17, 18, 19, 20]\n",
            "-----------------------------------------------------------------------\n",
            "[11, 8, 3, 7, 9, 12, 14, 18, 16, 5, 1, 4, 13, 17, 10, 15, 19, 6, 20, 2]\n"
          ],
          "name": "stdout"
        }
      ]
    },
    {
      "cell_type": "markdown",
      "metadata": {
        "id": "o9cR-fFf0eUJ"
      },
      "source": [
        "##El Número Mayor es"
      ]
    },
    {
      "cell_type": "code",
      "metadata": {
        "colab": {
          "base_uri": "https://localhost:8080/"
        },
        "id": "D1z1nx0TpYj6",
        "outputId": "bca08478-ffdb-4f12-bd9c-2355e570e201"
      },
      "source": [
        "li=[]\n",
        "m=int(input(\"Enter the whole elements of elements: \"))\n",
        "for _ in range(m):\n",
        "  n=int(input(\"Enter element of ur list: \"))\n",
        "  li.append(n)\n",
        "\n",
        "li.sort()\n",
        "print(\"Sorted lis: \",li)\n",
        "print(\"The largest number is: \",li[-1])"
      ],
      "execution_count": null,
      "outputs": [
        {
          "output_type": "stream",
          "text": [
            "Enter the whole elements of elements: 10\n",
            "Enter element of ur list: 3\n",
            "Enter element of ur list: 5\n",
            "Enter element of ur list: 6\n",
            "Enter element of ur list: 4\n",
            "Enter element of ur list: 8\n",
            "Enter element of ur list: 2\n",
            "Enter element of ur list: 1\n",
            "Enter element of ur list: 3\n",
            "Enter element of ur list: 5\n",
            "Enter element of ur list: 6\n",
            "Sorted lis:  [1, 2, 3, 3, 4, 5, 5, 6, 6, 8]\n",
            "The largest number is:  8\n"
          ],
          "name": "stdout"
        }
      ]
    },
    {
      "cell_type": "code",
      "metadata": {
        "id": "6bc_DqrutgzC"
      },
      "source": [
        "li=[]\n",
        "m=int(input(\"Enter the whole elements of elements: \"))\n",
        "for _ in range(m):\n",
        "  n=int(input(\"Enter element of ur list: \"))\n",
        "  li.append(n)\n",
        "\n",
        "longest = li[0]\n",
        "\n",
        "for i in li:\n",
        "  if i>longest:\n",
        "    longest=i\n",
        "\n",
        "print(\"The longest is: \", longest)\n",
        "\n",
        "\n",
        "\n"
      ],
      "execution_count": null,
      "outputs": []
    },
    {
      "cell_type": "code",
      "metadata": {
        "id": "YiInfusjxttl"
      },
      "source": [
        "def numlarger(li):\n",
        "  longest = li[0]\n",
        "  for i in li:\n",
        "    if i>longest:\n",
        "      longest=i\n",
        "  print(\"The longest is: \", longest)\n",
        "\n",
        "numlarger([12, 54, 14, 20])"
      ],
      "execution_count": null,
      "outputs": []
    },
    {
      "cell_type": "code",
      "metadata": {
        "id": "hybp6oJgyunO"
      },
      "source": [
        "def numlarger(li):\n",
        "  numlarger = max(li)\n",
        "  return numlarger\n",
        "numlarger([12, 54, 14, 20])"
      ],
      "execution_count": null,
      "outputs": []
    },
    {
      "cell_type": "markdown",
      "metadata": {
        "id": "xDJEuS81LKwR"
      },
      "source": [
        "#Limitar cantidad de decimales."
      ]
    },
    {
      "cell_type": "code",
      "metadata": {
        "id": "AjfOMelkLxex",
        "colab": {
          "base_uri": "https://localhost:8080/"
        },
        "outputId": "a6ddff00-c17a-41c5-f417-6b7c8d807bff"
      },
      "source": [
        "\n",
        "classic_way = 12.34585\n",
        "print(\"Classic_way: %.2f\" %classic_way)"
      ],
      "execution_count": null,
      "outputs": [
        {
          "output_type": "stream",
          "text": [
            "Classic_way: 12.35\n"
          ],
          "name": "stdout"
        }
      ]
    },
    {
      "cell_type": "code",
      "metadata": {
        "colab": {
          "base_uri": "https://localhost:8080/"
        },
        "id": "w2JGvHJULf4F",
        "outputId": "b0de105d-9b70-4ae7-a89d-f49d9d203f5f"
      },
      "source": [
        "x = 12.345856\n",
        "print(float('{0:.3f}'.format(x)))"
      ],
      "execution_count": null,
      "outputs": [
        {
          "output_type": "stream",
          "text": [
            "12.346\n"
          ],
          "name": "stdout"
        }
      ]
    },
    {
      "cell_type": "code",
      "metadata": {
        "colab": {
          "base_uri": "https://localhost:8080/"
        },
        "id": "cIlltdVIMcR9",
        "outputId": "415d6cea-b1ab-4d6d-becf-943cab23b83f"
      },
      "source": [
        "h = round(12.345856, 2) \n",
        "print(h)"
      ],
      "execution_count": null,
      "outputs": [
        {
          "output_type": "stream",
          "text": [
            "12.35\n"
          ],
          "name": "stdout"
        }
      ]
    },
    {
      "cell_type": "code",
      "metadata": {
        "colab": {
          "base_uri": "https://localhost:8080/"
        },
        "id": "giYEAHgSNa_h",
        "outputId": "6b2a61a2-5f0f-42c7-bcec-931806d12874"
      },
      "source": [
        "a = 12.345856\n",
        "print(format(a, '.4f'))"
      ],
      "execution_count": null,
      "outputs": [
        {
          "output_type": "stream",
          "text": [
            "12.3459\n"
          ],
          "name": "stdout"
        }
      ]
    },
    {
      "cell_type": "code",
      "metadata": {
        "colab": {
          "base_uri": "https://localhost:8080/"
        },
        "id": "BQzRWb1LOpDH",
        "outputId": "55b72c5d-1a47-46d6-fdba-0ed867d9be2c"
      },
      "source": [
        "modern_way = 12.65849\n",
        "print(f\"modern_way: {modern_way:.4f}\")"
      ],
      "execution_count": null,
      "outputs": [
        {
          "output_type": "stream",
          "text": [
            "modern_way: 12.6585\n"
          ],
          "name": "stdout"
        }
      ]
    },
    {
      "cell_type": "code",
      "metadata": {
        "colab": {
          "base_uri": "https://localhost:8080/"
        },
        "id": "R4Se3jD8Q_U0",
        "outputId": "7b7c6cd7-a4f6-4a33-aa11-1d4f0b154a13"
      },
      "source": [
        "hi = 'rolan'\n",
        "print(\"Classic STR: %.2s\" %hi)\n"
      ],
      "execution_count": null,
      "outputs": [
        {
          "output_type": "stream",
          "text": [
            "Classic STR: ro\n"
          ],
          "name": "stdout"
        }
      ]
    },
    {
      "cell_type": "code",
      "metadata": {
        "colab": {
          "base_uri": "https://localhost:8080/"
        },
        "id": "beDfZuqRS6ym",
        "outputId": "a3c4267e-8f53-4bfd-d095-11e60fe7f1e2"
      },
      "source": [
        "a = 'dario'\n",
        "print(format(a, '.3s'))"
      ],
      "execution_count": null,
      "outputs": [
        {
          "output_type": "stream",
          "text": [
            "dar\n"
          ],
          "name": "stdout"
        }
      ]
    },
    {
      "cell_type": "markdown",
      "metadata": {
        "id": "JxuUV44E1d0I"
      },
      "source": [
        "# Numeros pares e impares"
      ]
    },
    {
      "cell_type": "code",
      "metadata": {
        "colab": {
          "base_uri": "https://localhost:8080/"
        },
        "id": "fWgCgchZ1ivB",
        "outputId": "85f05095-b77c-40a4-af66-f3aecef9c5f8"
      },
      "source": [
        "n1=int(input(\"INGRESE UN NUMERO: \"))\n",
        "\n",
        "if n1 % 2 ==0:\n",
        "    print(f\"El numero {n1} es par\")\n",
        "else:\n",
        "    print(f\"El numero {n1} es impar\")"
      ],
      "execution_count": null,
      "outputs": [
        {
          "output_type": "stream",
          "text": [
            "INGRESE UN NUMERO3\n",
            "El numero 3 es impar\n"
          ],
          "name": "stdout"
        }
      ]
    },
    {
      "cell_type": "code",
      "metadata": {
        "colab": {
          "base_uri": "https://localhost:8080/",
          "height": 629
        },
        "id": "Cr4Hfm4224K-",
        "outputId": "dcb51ef8-f631-419e-a61a-176aec5dbb55"
      },
      "source": [
        "while True:\n",
        "  try:\n",
        "    n1=int(input(\"INGRESE UN NUMERO: \"))\n",
        "  except ValueError:\n",
        "    print(\"It Isn't a integer, try again please: \")\n",
        "    continue\n",
        "\n",
        "  else:\n",
        "    if n1 % 2 ==0:\n",
        "        print(f\"El numero {n1} es par\")\n",
        "    else:\n",
        "        print(f\"El numero {n1} es impar\")\n",
        "\n"
      ],
      "execution_count": null,
      "outputs": [
        {
          "output_type": "stream",
          "text": [
            "INGRESE UN NUMERO: kl\n",
            "It Isn't a integer, try again please: \n",
            "INGRESE UN NUMERO: klk\n",
            "It Isn't a integer, try again please: \n",
            "INGRESE UN NUMERO: 58\n",
            "El numero 58 es par\n"
          ],
          "name": "stdout"
        },
        {
          "output_type": "error",
          "ename": "KeyboardInterrupt",
          "evalue": "ignored",
          "traceback": [
            "\u001b[0;31m---------------------------------------------------------------------------\u001b[0m",
            "\u001b[0;31mKeyboardInterrupt\u001b[0m                         Traceback (most recent call last)",
            "\u001b[0;32m/usr/local/lib/python3.7/dist-packages/ipykernel/kernelbase.py\u001b[0m in \u001b[0;36m_input_request\u001b[0;34m(self, prompt, ident, parent, password)\u001b[0m\n\u001b[1;32m    728\u001b[0m             \u001b[0;32mtry\u001b[0m\u001b[0;34m:\u001b[0m\u001b[0;34m\u001b[0m\u001b[0;34m\u001b[0m\u001b[0m\n\u001b[0;32m--> 729\u001b[0;31m                 \u001b[0mident\u001b[0m\u001b[0;34m,\u001b[0m \u001b[0mreply\u001b[0m \u001b[0;34m=\u001b[0m \u001b[0mself\u001b[0m\u001b[0;34m.\u001b[0m\u001b[0msession\u001b[0m\u001b[0;34m.\u001b[0m\u001b[0mrecv\u001b[0m\u001b[0;34m(\u001b[0m\u001b[0mself\u001b[0m\u001b[0;34m.\u001b[0m\u001b[0mstdin_socket\u001b[0m\u001b[0;34m,\u001b[0m \u001b[0;36m0\u001b[0m\u001b[0;34m)\u001b[0m\u001b[0;34m\u001b[0m\u001b[0;34m\u001b[0m\u001b[0m\n\u001b[0m\u001b[1;32m    730\u001b[0m             \u001b[0;32mexcept\u001b[0m \u001b[0mException\u001b[0m\u001b[0;34m:\u001b[0m\u001b[0;34m\u001b[0m\u001b[0;34m\u001b[0m\u001b[0m\n",
            "\u001b[0;32m/usr/local/lib/python3.7/dist-packages/jupyter_client/session.py\u001b[0m in \u001b[0;36mrecv\u001b[0;34m(self, socket, mode, content, copy)\u001b[0m\n\u001b[1;32m    802\u001b[0m         \u001b[0;32mtry\u001b[0m\u001b[0;34m:\u001b[0m\u001b[0;34m\u001b[0m\u001b[0;34m\u001b[0m\u001b[0m\n\u001b[0;32m--> 803\u001b[0;31m             \u001b[0mmsg_list\u001b[0m \u001b[0;34m=\u001b[0m \u001b[0msocket\u001b[0m\u001b[0;34m.\u001b[0m\u001b[0mrecv_multipart\u001b[0m\u001b[0;34m(\u001b[0m\u001b[0mmode\u001b[0m\u001b[0;34m,\u001b[0m \u001b[0mcopy\u001b[0m\u001b[0;34m=\u001b[0m\u001b[0mcopy\u001b[0m\u001b[0;34m)\u001b[0m\u001b[0;34m\u001b[0m\u001b[0;34m\u001b[0m\u001b[0m\n\u001b[0m\u001b[1;32m    804\u001b[0m         \u001b[0;32mexcept\u001b[0m \u001b[0mzmq\u001b[0m\u001b[0;34m.\u001b[0m\u001b[0mZMQError\u001b[0m \u001b[0;32mas\u001b[0m \u001b[0me\u001b[0m\u001b[0;34m:\u001b[0m\u001b[0;34m\u001b[0m\u001b[0;34m\u001b[0m\u001b[0m\n",
            "\u001b[0;32m/usr/local/lib/python3.7/dist-packages/zmq/sugar/socket.py\u001b[0m in \u001b[0;36mrecv_multipart\u001b[0;34m(self, flags, copy, track)\u001b[0m\n\u001b[1;32m    582\u001b[0m         \"\"\"\n\u001b[0;32m--> 583\u001b[0;31m         \u001b[0mparts\u001b[0m \u001b[0;34m=\u001b[0m \u001b[0;34m[\u001b[0m\u001b[0mself\u001b[0m\u001b[0;34m.\u001b[0m\u001b[0mrecv\u001b[0m\u001b[0;34m(\u001b[0m\u001b[0mflags\u001b[0m\u001b[0;34m,\u001b[0m \u001b[0mcopy\u001b[0m\u001b[0;34m=\u001b[0m\u001b[0mcopy\u001b[0m\u001b[0;34m,\u001b[0m \u001b[0mtrack\u001b[0m\u001b[0;34m=\u001b[0m\u001b[0mtrack\u001b[0m\u001b[0;34m)\u001b[0m\u001b[0;34m]\u001b[0m\u001b[0;34m\u001b[0m\u001b[0;34m\u001b[0m\u001b[0m\n\u001b[0m\u001b[1;32m    584\u001b[0m         \u001b[0;31m# have first part already, only loop while more to receive\u001b[0m\u001b[0;34m\u001b[0m\u001b[0;34m\u001b[0m\u001b[0;34m\u001b[0m\u001b[0m\n",
            "\u001b[0;32mzmq/backend/cython/socket.pyx\u001b[0m in \u001b[0;36mzmq.backend.cython.socket.Socket.recv\u001b[0;34m()\u001b[0m\n",
            "\u001b[0;32mzmq/backend/cython/socket.pyx\u001b[0m in \u001b[0;36mzmq.backend.cython.socket.Socket.recv\u001b[0;34m()\u001b[0m\n",
            "\u001b[0;32mzmq/backend/cython/socket.pyx\u001b[0m in \u001b[0;36mzmq.backend.cython.socket._recv_copy\u001b[0;34m()\u001b[0m\n",
            "\u001b[0;32m/usr/local/lib/python3.7/dist-packages/zmq/backend/cython/checkrc.pxd\u001b[0m in \u001b[0;36mzmq.backend.cython.checkrc._check_rc\u001b[0;34m()\u001b[0m\n",
            "\u001b[0;31mKeyboardInterrupt\u001b[0m: ",
            "\nDuring handling of the above exception, another exception occurred:\n",
            "\u001b[0;31mKeyboardInterrupt\u001b[0m                         Traceback (most recent call last)",
            "\u001b[0;32m<ipython-input-3-0c0939ecdbc3>\u001b[0m in \u001b[0;36m<module>\u001b[0;34m()\u001b[0m\n\u001b[1;32m      1\u001b[0m \u001b[0;32mwhile\u001b[0m \u001b[0;32mTrue\u001b[0m\u001b[0;34m:\u001b[0m\u001b[0;34m\u001b[0m\u001b[0;34m\u001b[0m\u001b[0m\n\u001b[1;32m      2\u001b[0m   \u001b[0;32mtry\u001b[0m\u001b[0;34m:\u001b[0m\u001b[0;34m\u001b[0m\u001b[0;34m\u001b[0m\u001b[0m\n\u001b[0;32m----> 3\u001b[0;31m     \u001b[0mn1\u001b[0m\u001b[0;34m=\u001b[0m\u001b[0mint\u001b[0m\u001b[0;34m(\u001b[0m\u001b[0minput\u001b[0m\u001b[0;34m(\u001b[0m\u001b[0;34m\"INGRESE UN NUMERO: \"\u001b[0m\u001b[0;34m)\u001b[0m\u001b[0;34m)\u001b[0m\u001b[0;34m\u001b[0m\u001b[0;34m\u001b[0m\u001b[0m\n\u001b[0m\u001b[1;32m      4\u001b[0m   \u001b[0;32mexcept\u001b[0m \u001b[0mValueError\u001b[0m\u001b[0;34m:\u001b[0m\u001b[0;34m\u001b[0m\u001b[0;34m\u001b[0m\u001b[0m\n\u001b[1;32m      5\u001b[0m     \u001b[0mprint\u001b[0m\u001b[0;34m(\u001b[0m\u001b[0;34m\"It Isn't a integer, try again please: \"\u001b[0m\u001b[0;34m)\u001b[0m\u001b[0;34m\u001b[0m\u001b[0;34m\u001b[0m\u001b[0m\n",
            "\u001b[0;32m/usr/local/lib/python3.7/dist-packages/ipykernel/kernelbase.py\u001b[0m in \u001b[0;36mraw_input\u001b[0;34m(self, prompt)\u001b[0m\n\u001b[1;32m    702\u001b[0m             \u001b[0mself\u001b[0m\u001b[0;34m.\u001b[0m\u001b[0m_parent_ident\u001b[0m\u001b[0;34m,\u001b[0m\u001b[0;34m\u001b[0m\u001b[0;34m\u001b[0m\u001b[0m\n\u001b[1;32m    703\u001b[0m             \u001b[0mself\u001b[0m\u001b[0;34m.\u001b[0m\u001b[0m_parent_header\u001b[0m\u001b[0;34m,\u001b[0m\u001b[0;34m\u001b[0m\u001b[0;34m\u001b[0m\u001b[0m\n\u001b[0;32m--> 704\u001b[0;31m             \u001b[0mpassword\u001b[0m\u001b[0;34m=\u001b[0m\u001b[0;32mFalse\u001b[0m\u001b[0;34m,\u001b[0m\u001b[0;34m\u001b[0m\u001b[0;34m\u001b[0m\u001b[0m\n\u001b[0m\u001b[1;32m    705\u001b[0m         )\n\u001b[1;32m    706\u001b[0m \u001b[0;34m\u001b[0m\u001b[0m\n",
            "\u001b[0;32m/usr/local/lib/python3.7/dist-packages/ipykernel/kernelbase.py\u001b[0m in \u001b[0;36m_input_request\u001b[0;34m(self, prompt, ident, parent, password)\u001b[0m\n\u001b[1;32m    732\u001b[0m             \u001b[0;32mexcept\u001b[0m \u001b[0mKeyboardInterrupt\u001b[0m\u001b[0;34m:\u001b[0m\u001b[0;34m\u001b[0m\u001b[0;34m\u001b[0m\u001b[0m\n\u001b[1;32m    733\u001b[0m                 \u001b[0;31m# re-raise KeyboardInterrupt, to truncate traceback\u001b[0m\u001b[0;34m\u001b[0m\u001b[0;34m\u001b[0m\u001b[0;34m\u001b[0m\u001b[0m\n\u001b[0;32m--> 734\u001b[0;31m                 \u001b[0;32mraise\u001b[0m \u001b[0mKeyboardInterrupt\u001b[0m\u001b[0;34m\u001b[0m\u001b[0;34m\u001b[0m\u001b[0m\n\u001b[0m\u001b[1;32m    735\u001b[0m             \u001b[0;32melse\u001b[0m\u001b[0;34m:\u001b[0m\u001b[0;34m\u001b[0m\u001b[0;34m\u001b[0m\u001b[0m\n\u001b[1;32m    736\u001b[0m                 \u001b[0;32mbreak\u001b[0m\u001b[0;34m\u001b[0m\u001b[0;34m\u001b[0m\u001b[0m\n",
            "\u001b[0;31mKeyboardInterrupt\u001b[0m: "
          ]
        }
      ]
    },
    {
      "cell_type": "markdown",
      "metadata": {
        "id": "cDKHItvemA8c"
      },
      "source": [
        "#Suma de Pares e Impares"
      ]
    },
    {
      "cell_type": "code",
      "metadata": {
        "colab": {
          "base_uri": "https://localhost:8080/"
        },
        "id": "5jtadvLumMYp",
        "outputId": "0fe658f9-df12-4bc7-8937-e2ec1577dfea"
      },
      "source": [
        "total = 0\n",
        "num=int(input(\"Please, enter a number\"))\n",
        "even_numbers=[]\n",
        "for i in range (0, num + 1):\n",
        "  if i % 2 ==0:\n",
        "    even_numbers.append(i)\n",
        "    total+=i\n",
        "\n",
        "print(f\"All the numbers from 0 to {num} are: {even_numbers}  \")\n",
        "print(\"------------------------------------------------------\")\n",
        "print(f\"Te sume of even numbers from 0 to {num} is {total}\")\n",
        "\n",
        "#impares\n",
        "otal = 0\n",
        "num=int(input(\"Please, enter a number\"))\n",
        "even_numbers=[]\n",
        "for i in range (0, num + 1):\n",
        "  if i % 2 >0:\n",
        "    even_numbers.append(i)\n",
        "    total+=i\n",
        "\n",
        "print(f\"All the numbers from 0 to {num} are: {even_numbers}  \")\n",
        "print(\"------------------------------------------------------\")\n",
        "print(f\"Te sume of even numbers from 0 to {num} is {total}\")\n",
        "\n",
        "\n"
      ],
      "execution_count": null,
      "outputs": [
        {
          "output_type": "stream",
          "text": [
            "Please, enter a number10\n",
            "All the numbers from 0 to 10 are: [0, 2, 4, 6, 8, 10]  \n",
            "------------------------------------------------------\n",
            "Te sume of even numbers from 0 to 10 is 30\n"
          ],
          "name": "stdout"
        }
      ]
    },
    {
      "cell_type": "code",
      "metadata": {
        "colab": {
          "base_uri": "https://localhost:8080/"
        },
        "id": "W4PFFqbFrUVp",
        "outputId": "8c059b0b-0094-4264-a49f-9415f8d61f44"
      },
      "source": [
        ""
      ],
      "execution_count": null,
      "outputs": [
        {
          "output_type": "stream",
          "text": [
            "Enter a number: 125\n",
            "Your original numer is  125\n",
            "Numbers of digits in your number is  3\n"
          ],
          "name": "stdout"
        }
      ]
    },
    {
      "cell_type": "markdown",
      "metadata": {
        "id": "8_aVbQZYhk8m"
      },
      "source": [
        "#Numero de digitos"
      ]
    },
    {
      "cell_type": "code",
      "metadata": {
        "id": "wphsKOKkhf20"
      },
      "source": [
        "user_input=int(input(\"Enter a number: \"))\n",
        "user_input=abs(user_input)\n",
        "print(\"Your original numer is \", user_input)\n",
        "\n",
        "count=0\n",
        "\n",
        "while user_input > 0:\n",
        "  user_input //=10\n",
        "  count +=1\n",
        "\n",
        "print(\"Numbers of digits in your number is \",count)"
      ],
      "execution_count": null,
      "outputs": []
    },
    {
      "cell_type": "markdown",
      "metadata": {
        "id": "b41k15NVw4Ea"
      },
      "source": [
        "#Separar Dígitos"
      ]
    },
    {
      "cell_type": "code",
      "metadata": {
        "colab": {
          "base_uri": "https://localhost:8080/"
        },
        "id": "f9hsIzv7w8FJ",
        "outputId": "9785882d-caa0-4adf-c2e5-fa4f89cb10a6"
      },
      "source": [
        "lst=[]\n",
        "def string_int(my_data):\n",
        "  for i in my_data:\n",
        "    lst.append(int(i))\n",
        "  print(lst)\n",
        "\n",
        "user_input=input(\"Enter a number: \")\n",
        "string_int(user_input)\n",
        "\n",
        "\n",
        "def string_int(txt):\n",
        "  num_int=[int(i) for i in txt]\n",
        "  print (num_int)\n",
        "\n",
        "user_in=input(\"Enter a number: \")\n",
        "string_int(user_in)"
      ],
      "execution_count": null,
      "outputs": [
        {
          "output_type": "stream",
          "text": [
            "Enter a number: 123456\n",
            "[1, 2, 3, 4, 5, 6]\n",
            "Enter a number: 159753\n",
            "[1, 5, 9, 7, 5, 3]\n"
          ],
          "name": "stdout"
        }
      ]
    },
    {
      "cell_type": "markdown",
      "metadata": {
        "id": "TFLQHxKbAo2h"
      },
      "source": [
        "#Sumar N numeros"
      ]
    },
    {
      "cell_type": "code",
      "metadata": {
        "colab": {
          "base_uri": "https://localhost:8080/"
        },
        "id": "hN_uSTarAsAu",
        "outputId": "a1ba70d6-be99-400e-b3cf-d9e4610d4cff"
      },
      "source": [
        "total=0\n",
        "num=int(input(\"Please, enter a number: \"))\n",
        "\n",
        "for i in range (0, num+1):\n",
        "  total = total+i\n",
        "\n",
        "print(\"The sum of numbers from  0 to {} is: {} \".format(num,total))\n",
        "\n",
        "\n",
        "def sumOf (num):\n",
        "  total=0\n",
        "  for i in range (1, num+1):\n",
        "    total = total+i\n",
        "  return total\n",
        "print(sumOf(10))"
      ],
      "execution_count": null,
      "outputs": [
        {
          "output_type": "stream",
          "text": [
            "Please, enter a number: 6\n",
            "The sum of numbers from  0 to 6 is: 21 \n",
            "55\n"
          ],
          "name": "stdout"
        }
      ]
    },
    {
      "cell_type": "markdown",
      "metadata": {
        "id": "7veoL_OBPGfW"
      },
      "source": [
        "#Contador de números"
      ]
    },
    {
      "cell_type": "code",
      "metadata": {
        "colab": {
          "base_uri": "https://localhost:8080/"
        },
        "id": "aMC9V9aFPKB3",
        "outputId": "1fd25fed-5179-46e4-8ab6-2febdf02e49e"
      },
      "source": [
        "# user_input=int(input(\"Enter your number: \"))\n",
        "# even_num=0\n",
        "# odd_num=0\n",
        "\n",
        "# while (user_input>0):\n",
        "#   if user_input % 2 ==0:\n",
        "#     even_num +=1\n",
        "#   else:\n",
        "#     odd_num +=1\n",
        "#   user_input = user_input //10\n",
        "# print(f\"Number of even numbers {even_num} number of odd numbers {odd_num}\")\n",
        "\n",
        "\n",
        "# def even_odd_counter(max_arr, arr_values):\n",
        "#   count_even=0\n",
        "#   count_odd=0\n",
        "\n",
        "#   even_odd=[]\n",
        "\n",
        "#   for i in range(max_arr):\n",
        "#     if (arr_values[i] % 2 ==0):\n",
        "#       count_even+=1\n",
        "#     else:\n",
        "#       count_odd+=1\n",
        "\n",
        "#   even_odd.append(count_even)\n",
        "#   even_odd.append(count_odd)\n",
        "#   print(even_odd)\n",
        "#   print(\"Even {} / Odd {} \".format(even_odd[0],even_odd[1]))\n",
        "\n",
        "\n",
        "# even_odd_counter(6, [1,2,3,4,5,6])\n",
        "\n",
        "print(\"If i prefer all numbers\")\n",
        "print(\"----------------------------------------------------\")\n",
        "\n",
        "def even_odd_counter(arr_values):\n",
        "  count_even=0\n",
        "  count_odd=0\n",
        "\n",
        "  even_odd=[]\n",
        "\n",
        "  for i in (arr_values):\n",
        "    if i % 2 ==0:\n",
        "      count_even+=1\n",
        "    else:\n",
        "      count_odd+=1\n",
        "\n",
        "  even_odd.append(count_even)\n",
        "  even_odd.append(count_odd)\n",
        "  print(even_odd)\n",
        "  print(\"Even {} / Odd {} \".format(even_odd[0],even_odd[1]))\n",
        "\n",
        "\n",
        "even_odd_counter([1,3,3,4,5,6])\n",
        "\n",
        "\n"
      ],
      "execution_count": null,
      "outputs": [
        {
          "output_type": "stream",
          "text": [
            "If i prefer all numbers\n",
            "----------------------------------------------------\n",
            "[2, 4]\n",
            "Even 2 / Odd 4 \n"
          ],
          "name": "stdout"
        }
      ]
    },
    {
      "cell_type": "markdown",
      "metadata": {
        "id": "K1tx-CXDWdIE"
      },
      "source": [
        "#Tabla de multiplicar"
      ]
    },
    {
      "cell_type": "code",
      "metadata": {
        "colab": {
          "base_uri": "https://localhost:8080/",
          "height": 527
        },
        "id": "eEWsnmfmWf9L",
        "outputId": "2477842d-685f-4cbe-b040-13bd94cf02f7"
      },
      "source": [
        "import sys\n",
        "def multi_table():\n",
        "  num=int(input(\"Please, enter a number: \"))\n",
        "  limit=int(input(\"What is the limit of the multiplication table? \"))\n",
        "\n",
        "  for i in range(1, limit +1):\n",
        "    product = num * i\n",
        "    print(f\"Num  {num} * {i} = {product} \")\n",
        "\n",
        "  print(\"Create another table? \\n 1 - Yes \\n 2 - No\")\n",
        "  x=input().lower()\n",
        "  if (x==\"1\" or x==\"yes\"):\n",
        "    multi_table()\n",
        "  else:\n",
        "    print(\"Bye Bye!!\")\n",
        "    sys.exit(1)\n",
        "\n",
        "multi_table()"
      ],
      "execution_count": null,
      "outputs": [
        {
          "output_type": "error",
          "ename": "KeyboardInterrupt",
          "evalue": "ignored",
          "traceback": [
            "\u001b[0;31m---------------------------------------------------------------------------\u001b[0m",
            "\u001b[0;31mKeyboardInterrupt\u001b[0m                         Traceback (most recent call last)",
            "\u001b[0;32m/usr/local/lib/python3.7/dist-packages/ipykernel/kernelbase.py\u001b[0m in \u001b[0;36m_input_request\u001b[0;34m(self, prompt, ident, parent, password)\u001b[0m\n\u001b[1;32m    728\u001b[0m             \u001b[0;32mtry\u001b[0m\u001b[0;34m:\u001b[0m\u001b[0;34m\u001b[0m\u001b[0;34m\u001b[0m\u001b[0m\n\u001b[0;32m--> 729\u001b[0;31m                 \u001b[0mident\u001b[0m\u001b[0;34m,\u001b[0m \u001b[0mreply\u001b[0m \u001b[0;34m=\u001b[0m \u001b[0mself\u001b[0m\u001b[0;34m.\u001b[0m\u001b[0msession\u001b[0m\u001b[0;34m.\u001b[0m\u001b[0mrecv\u001b[0m\u001b[0;34m(\u001b[0m\u001b[0mself\u001b[0m\u001b[0;34m.\u001b[0m\u001b[0mstdin_socket\u001b[0m\u001b[0;34m,\u001b[0m \u001b[0;36m0\u001b[0m\u001b[0;34m)\u001b[0m\u001b[0;34m\u001b[0m\u001b[0;34m\u001b[0m\u001b[0m\n\u001b[0m\u001b[1;32m    730\u001b[0m             \u001b[0;32mexcept\u001b[0m \u001b[0mException\u001b[0m\u001b[0;34m:\u001b[0m\u001b[0;34m\u001b[0m\u001b[0;34m\u001b[0m\u001b[0m\n",
            "\u001b[0;32m/usr/local/lib/python3.7/dist-packages/jupyter_client/session.py\u001b[0m in \u001b[0;36mrecv\u001b[0;34m(self, socket, mode, content, copy)\u001b[0m\n\u001b[1;32m    802\u001b[0m         \u001b[0;32mtry\u001b[0m\u001b[0;34m:\u001b[0m\u001b[0;34m\u001b[0m\u001b[0;34m\u001b[0m\u001b[0m\n\u001b[0;32m--> 803\u001b[0;31m             \u001b[0mmsg_list\u001b[0m \u001b[0;34m=\u001b[0m \u001b[0msocket\u001b[0m\u001b[0;34m.\u001b[0m\u001b[0mrecv_multipart\u001b[0m\u001b[0;34m(\u001b[0m\u001b[0mmode\u001b[0m\u001b[0;34m,\u001b[0m \u001b[0mcopy\u001b[0m\u001b[0;34m=\u001b[0m\u001b[0mcopy\u001b[0m\u001b[0;34m)\u001b[0m\u001b[0;34m\u001b[0m\u001b[0;34m\u001b[0m\u001b[0m\n\u001b[0m\u001b[1;32m    804\u001b[0m         \u001b[0;32mexcept\u001b[0m \u001b[0mzmq\u001b[0m\u001b[0;34m.\u001b[0m\u001b[0mZMQError\u001b[0m \u001b[0;32mas\u001b[0m \u001b[0me\u001b[0m\u001b[0;34m:\u001b[0m\u001b[0;34m\u001b[0m\u001b[0;34m\u001b[0m\u001b[0m\n",
            "\u001b[0;32m/usr/local/lib/python3.7/dist-packages/zmq/sugar/socket.py\u001b[0m in \u001b[0;36mrecv_multipart\u001b[0;34m(self, flags, copy, track)\u001b[0m\n\u001b[1;32m    582\u001b[0m         \"\"\"\n\u001b[0;32m--> 583\u001b[0;31m         \u001b[0mparts\u001b[0m \u001b[0;34m=\u001b[0m \u001b[0;34m[\u001b[0m\u001b[0mself\u001b[0m\u001b[0;34m.\u001b[0m\u001b[0mrecv\u001b[0m\u001b[0;34m(\u001b[0m\u001b[0mflags\u001b[0m\u001b[0;34m,\u001b[0m \u001b[0mcopy\u001b[0m\u001b[0;34m=\u001b[0m\u001b[0mcopy\u001b[0m\u001b[0;34m,\u001b[0m \u001b[0mtrack\u001b[0m\u001b[0;34m=\u001b[0m\u001b[0mtrack\u001b[0m\u001b[0;34m)\u001b[0m\u001b[0;34m]\u001b[0m\u001b[0;34m\u001b[0m\u001b[0;34m\u001b[0m\u001b[0m\n\u001b[0m\u001b[1;32m    584\u001b[0m         \u001b[0;31m# have first part already, only loop while more to receive\u001b[0m\u001b[0;34m\u001b[0m\u001b[0;34m\u001b[0m\u001b[0;34m\u001b[0m\u001b[0m\n",
            "\u001b[0;32mzmq/backend/cython/socket.pyx\u001b[0m in \u001b[0;36mzmq.backend.cython.socket.Socket.recv\u001b[0;34m()\u001b[0m\n",
            "\u001b[0;32mzmq/backend/cython/socket.pyx\u001b[0m in \u001b[0;36mzmq.backend.cython.socket.Socket.recv\u001b[0;34m()\u001b[0m\n",
            "\u001b[0;32mzmq/backend/cython/socket.pyx\u001b[0m in \u001b[0;36mzmq.backend.cython.socket._recv_copy\u001b[0;34m()\u001b[0m\n",
            "\u001b[0;32m/usr/local/lib/python3.7/dist-packages/zmq/backend/cython/checkrc.pxd\u001b[0m in \u001b[0;36mzmq.backend.cython.checkrc._check_rc\u001b[0;34m()\u001b[0m\n",
            "\u001b[0;31mKeyboardInterrupt\u001b[0m: ",
            "\nDuring handling of the above exception, another exception occurred:\n",
            "\u001b[0;31mKeyboardInterrupt\u001b[0m                         Traceback (most recent call last)",
            "\u001b[0;32m<ipython-input-31-601f97bc787d>\u001b[0m in \u001b[0;36m<module>\u001b[0;34m()\u001b[0m\n\u001b[1;32m     16\u001b[0m     \u001b[0msys\u001b[0m\u001b[0;34m.\u001b[0m\u001b[0mexit\u001b[0m\u001b[0;34m(\u001b[0m\u001b[0;36m1\u001b[0m\u001b[0;34m)\u001b[0m\u001b[0;34m\u001b[0m\u001b[0;34m\u001b[0m\u001b[0m\n\u001b[1;32m     17\u001b[0m \u001b[0;34m\u001b[0m\u001b[0m\n\u001b[0;32m---> 18\u001b[0;31m \u001b[0mmulti_table\u001b[0m\u001b[0;34m(\u001b[0m\u001b[0;34m)\u001b[0m\u001b[0;34m\u001b[0m\u001b[0;34m\u001b[0m\u001b[0m\n\u001b[0m",
            "\u001b[0;32m<ipython-input-31-601f97bc787d>\u001b[0m in \u001b[0;36mmulti_table\u001b[0;34m()\u001b[0m\n\u001b[1;32m      1\u001b[0m \u001b[0;32mimport\u001b[0m \u001b[0msys\u001b[0m\u001b[0;34m\u001b[0m\u001b[0;34m\u001b[0m\u001b[0m\n\u001b[1;32m      2\u001b[0m \u001b[0;32mdef\u001b[0m \u001b[0mmulti_table\u001b[0m\u001b[0;34m(\u001b[0m\u001b[0;34m)\u001b[0m\u001b[0;34m:\u001b[0m\u001b[0;34m\u001b[0m\u001b[0;34m\u001b[0m\u001b[0m\n\u001b[0;32m----> 3\u001b[0;31m   \u001b[0mnum\u001b[0m\u001b[0;34m=\u001b[0m\u001b[0mint\u001b[0m\u001b[0;34m(\u001b[0m\u001b[0minput\u001b[0m\u001b[0;34m(\u001b[0m\u001b[0;34m\"Please, enter a number: \"\u001b[0m\u001b[0;34m)\u001b[0m\u001b[0;34m)\u001b[0m\u001b[0;34m\u001b[0m\u001b[0;34m\u001b[0m\u001b[0m\n\u001b[0m\u001b[1;32m      4\u001b[0m   \u001b[0mlimit\u001b[0m\u001b[0;34m=\u001b[0m\u001b[0mint\u001b[0m\u001b[0;34m(\u001b[0m\u001b[0minput\u001b[0m\u001b[0;34m(\u001b[0m\u001b[0;34m\"What is the limit of the multiplication table? \"\u001b[0m\u001b[0;34m)\u001b[0m\u001b[0;34m)\u001b[0m\u001b[0;34m\u001b[0m\u001b[0;34m\u001b[0m\u001b[0m\n\u001b[1;32m      5\u001b[0m \u001b[0;34m\u001b[0m\u001b[0m\n",
            "\u001b[0;32m/usr/local/lib/python3.7/dist-packages/ipykernel/kernelbase.py\u001b[0m in \u001b[0;36mraw_input\u001b[0;34m(self, prompt)\u001b[0m\n\u001b[1;32m    702\u001b[0m             \u001b[0mself\u001b[0m\u001b[0;34m.\u001b[0m\u001b[0m_parent_ident\u001b[0m\u001b[0;34m,\u001b[0m\u001b[0;34m\u001b[0m\u001b[0;34m\u001b[0m\u001b[0m\n\u001b[1;32m    703\u001b[0m             \u001b[0mself\u001b[0m\u001b[0;34m.\u001b[0m\u001b[0m_parent_header\u001b[0m\u001b[0;34m,\u001b[0m\u001b[0;34m\u001b[0m\u001b[0;34m\u001b[0m\u001b[0m\n\u001b[0;32m--> 704\u001b[0;31m             \u001b[0mpassword\u001b[0m\u001b[0;34m=\u001b[0m\u001b[0;32mFalse\u001b[0m\u001b[0;34m,\u001b[0m\u001b[0;34m\u001b[0m\u001b[0;34m\u001b[0m\u001b[0m\n\u001b[0m\u001b[1;32m    705\u001b[0m         )\n\u001b[1;32m    706\u001b[0m \u001b[0;34m\u001b[0m\u001b[0m\n",
            "\u001b[0;32m/usr/local/lib/python3.7/dist-packages/ipykernel/kernelbase.py\u001b[0m in \u001b[0;36m_input_request\u001b[0;34m(self, prompt, ident, parent, password)\u001b[0m\n\u001b[1;32m    732\u001b[0m             \u001b[0;32mexcept\u001b[0m \u001b[0mKeyboardInterrupt\u001b[0m\u001b[0;34m:\u001b[0m\u001b[0;34m\u001b[0m\u001b[0;34m\u001b[0m\u001b[0m\n\u001b[1;32m    733\u001b[0m                 \u001b[0;31m# re-raise KeyboardInterrupt, to truncate traceback\u001b[0m\u001b[0;34m\u001b[0m\u001b[0;34m\u001b[0m\u001b[0;34m\u001b[0m\u001b[0m\n\u001b[0;32m--> 734\u001b[0;31m                 \u001b[0;32mraise\u001b[0m \u001b[0mKeyboardInterrupt\u001b[0m\u001b[0;34m\u001b[0m\u001b[0;34m\u001b[0m\u001b[0m\n\u001b[0m\u001b[1;32m    735\u001b[0m             \u001b[0;32melse\u001b[0m\u001b[0;34m:\u001b[0m\u001b[0;34m\u001b[0m\u001b[0;34m\u001b[0m\u001b[0m\n\u001b[1;32m    736\u001b[0m                 \u001b[0;32mbreak\u001b[0m\u001b[0;34m\u001b[0m\u001b[0;34m\u001b[0m\u001b[0m\n",
            "\u001b[0;31mKeyboardInterrupt\u001b[0m: "
          ]
        }
      ]
    },
    {
      "cell_type": "markdown",
      "metadata": {
        "id": "LhomKXgx2BLu"
      },
      "source": [
        "#Mostrar los números sin/con ciclos\n"
      ]
    },
    {
      "cell_type": "code",
      "metadata": {
        "id": "fUBRYAoc2ETq"
      },
      "source": [
        "\n",
        "def HundredNums(num):\n",
        "  if num !=101:\n",
        "    print (num)\n",
        "    num+=1\n",
        "    HundredNums(num)\n",
        "  else:\n",
        "    return\n",
        "    \n",
        "HundredNums(1)      \n",
        "\n"
      ],
      "execution_count": null,
      "outputs": []
    },
    {
      "cell_type": "code",
      "metadata": {
        "id": "O8MIyFg-O_pg"
      },
      "source": [
        "for i in range(100, 0, -1):\n",
        "  print(i)\n"
      ],
      "execution_count": null,
      "outputs": []
    },
    {
      "cell_type": "code",
      "metadata": {
        "id": "Yxk3YQf6Pdae"
      },
      "source": [
        "counter=100\n",
        "while counter >= 0:\n",
        "  if counter > 0:\n",
        "    print(counter)\n",
        "  if counter == 0:\n",
        "    print(\"This is the end!! \")\n",
        "\n",
        "  counter-=1\n",
        "\n",
        "#   counter=100\n",
        "# while counter >= 0:\n",
        "#   if counter != 0:\n",
        "#     print(counter)\n",
        "#   else counter == 0:\n",
        "#     print(\"This is the end!! \")\n",
        "\n",
        "#   counter-=1"
      ],
      "execution_count": null,
      "outputs": []
    },
    {
      "cell_type": "markdown",
      "metadata": {
        "id": "JAgg2kyCV7Ge"
      },
      "source": [
        "#Numeros secuenciales"
      ]
    },
    {
      "cell_type": "code",
      "metadata": {
        "colab": {
          "base_uri": "https://localhost:8080/"
        },
        "id": "69Zn4ZmpV9gD",
        "outputId": "d99031fe-86bd-4b5d-f63b-ed7980adb254"
      },
      "source": [
        "# seq_numbers = [i for i in range (1, 21)]\n",
        "# print (seq_numbers)\n",
        "\n",
        "# seq_numbers = list(i for i in range (1, 21))\n",
        "# print (seq_numbers)\n",
        "\n",
        "# mylist=[]\n",
        "\n",
        "# for x in range(1, 21):\n",
        "#   mylist.append(x)\n",
        "\n",
        "# print(mylist)\n",
        "\n",
        "# userinput=int(input(\"Enter you range of numbers: \"))\n",
        "# somenumbers = [j for j in range(1, userinput+1)]\n",
        "# print(somenumbers)\n",
        "\n",
        "\n",
        "print(list(range(1,11)))\n"
      ],
      "execution_count": null,
      "outputs": [
        {
          "output_type": "stream",
          "text": [
            "[1, 2, 3, 4, 5, 6, 7, 8, 9, 10]\n",
            "<class 'list'>\n"
          ],
          "name": "stdout"
        }
      ]
    }
  ]
}