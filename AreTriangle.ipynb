{
  "nbformat": 4,
  "nbformat_minor": 0,
  "metadata": {
    "colab": {
      "name": "AreTriangle.ipynb",
      "provenance": [],
      "collapsed_sections": [],
      "authorship_tag": "ABX9TyMoacdHMDFoBiMhv3FXfJii",
      "include_colab_link": true
    },
    "kernelspec": {
      "name": "python3",
      "display_name": "Python 3"
    },
    "language_info": {
      "name": "python"
    }
  },
  "cells": [
    {
      "cell_type": "markdown",
      "metadata": {
        "id": "view-in-github",
        "colab_type": "text"
      },
      "source": [
        "<a href=\"https://colab.research.google.com/github/rolang12/Python_RolanPineres/blob/main/AreTriangle.ipynb\" target=\"_parent\"><img src=\"https://colab.research.google.com/assets/colab-badge.svg\" alt=\"Open In Colab\"/></a>"
      ]
    },
    {
      "cell_type": "code",
      "metadata": {
        "colab": {
          "base_uri": "https://localhost:8080/"
        },
        "id": "Q5Pgc2fUmCOx",
        "outputId": "911956d8-7c0d-425a-94ba-e88ddfbb5b17"
      },
      "source": [
        "base=float(input(\"Enter de base of ur triangle: \"))\n",
        "height=float(input(\"Enter de height of ur triangle: \"))\n",
        "\n",
        "area_triangle = (base*height)/2\n",
        "\n",
        "print(f\"The area of ur triangle is: {area_triangle} \")"
      ],
      "execution_count": null,
      "outputs": [
        {
          "output_type": "stream",
          "text": [
            "Enter de base of ur triangle8\n",
            "Enter de height of ur triangle7\n",
            "The area of ur triangle is: 28.0 \n"
          ],
          "name": "stdout"
        }
      ]
    }
  ]
}