{
  "nbformat": 4,
  "nbformat_minor": 0,
  "metadata": {
    "colab": {
      "name": "Min_Hours.ipynb",
      "provenance": [],
      "authorship_tag": "ABX9TyMSXN39YJnoYkmTl4A5p6uf",
      "include_colab_link": true
    },
    "kernelspec": {
      "name": "python3",
      "display_name": "Python 3"
    },
    "language_info": {
      "name": "python"
    }
  },
  "cells": [
    {
      "cell_type": "markdown",
      "metadata": {
        "id": "view-in-github",
        "colab_type": "text"
      },
      "source": [
        "<a href=\"https://colab.research.google.com/github/rolang12/Python_RolanPineres/blob/main/Min_Hours.ipynb\" target=\"_parent\"><img src=\"https://colab.research.google.com/assets/colab-badge.svg\" alt=\"Open In Colab\"/></a>"
      ]
    },
    {
      "cell_type": "code",
      "metadata": {
        "colab": {
          "base_uri": "https://localhost:8080/"
        },
        "id": "gki9Fn2fACIp",
        "outputId": "fc108b0a-783f-45f1-af91-6ff681c930b8"
      },
      "source": [
        "def timeConv (num):\n",
        "  minutes = num % 60 \n",
        "  print(\"Minutes \", minutes)\n",
        "  hours= (num - minutes)/60\n",
        "  print (\"Hours: \", hours)\n",
        "  result= str(hours)+\"hours\"+\":\"+str(minutes)+\"min.\"\n",
        "  return(result)\n",
        "\n",
        "b=int(input(\"Enter the minutes: \"))\n",
        "print(timeConv(b))"
      ],
      "execution_count": 6,
      "outputs": [
        {
          "output_type": "stream",
          "text": [
            "Enter the minutes: 576\n",
            "Minutes  36\n",
            "Hours:  9.0\n",
            "9.0hours:36min.\n"
          ],
          "name": "stdout"
        }
      ]
    }
  ]
}