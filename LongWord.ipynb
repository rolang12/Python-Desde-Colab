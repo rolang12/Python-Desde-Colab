{
  "nbformat": 4,
  "nbformat_minor": 0,
  "metadata": {
    "colab": {
      "name": "LongWord.ipynb",
      "provenance": [],
      "authorship_tag": "ABX9TyOpqyTTubudj1NltlN0T1bH",
      "include_colab_link": true
    },
    "kernelspec": {
      "name": "python3",
      "display_name": "Python 3"
    },
    "language_info": {
      "name": "python"
    }
  },
  "cells": [
    {
      "cell_type": "markdown",
      "metadata": {
        "id": "view-in-github",
        "colab_type": "text"
      },
      "source": [
        "<a href=\"https://colab.research.google.com/github/rolang12/Python_RolanPineres/blob/main/LongWord.ipynb\" target=\"_parent\"><img src=\"https://colab.research.google.com/assets/colab-badge.svg\" alt=\"Open In Colab\"/></a>"
      ]
    },
    {
      "cell_type": "code",
      "metadata": {
        "colab": {
          "base_uri": "https://localhost:8080/"
        },
        "id": "gZpufJSBjFSb",
        "outputId": "0621ebc7-b6a2-4084-a17d-32ca0b14b0bf"
      },
      "source": [
        "strlist = [\"cute\",\"me\",\"california\",\"assume\",\"after\"]\n",
        "\n",
        "def thirdGreatest(strlist):\n",
        "  # strlist.sort(key = len, reverse = True)\n",
        "  x = sorted(strlist, key = len, reverse = True)\n",
        "  print(strlist)\n",
        "  print(x)\n",
        "  return x[2]\n",
        "\n",
        "print(thirdGreatest(strlist))\n"
      ],
      "execution_count": null,
      "outputs": [
        {
          "output_type": "stream",
          "text": [
            "['cute', 'me', 'california', 'assume', 'after']\n",
            "['california', 'assume', 'after', 'cute', 'me']\n",
            "after\n"
          ],
          "name": "stdout"
        }
      ]
    }
  ]
}