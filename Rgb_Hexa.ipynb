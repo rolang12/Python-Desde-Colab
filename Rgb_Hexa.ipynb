{
  "nbformat": 4,
  "nbformat_minor": 0,
  "metadata": {
    "colab": {
      "name": "Rgb_Hexa.ipynb",
      "provenance": [],
      "collapsed_sections": [],
      "authorship_tag": "ABX9TyNNv9KkghcFKMvM51so2DVB",
      "include_colab_link": true
    },
    "kernelspec": {
      "name": "python3",
      "display_name": "Python 3"
    },
    "language_info": {
      "name": "python"
    }
  },
  "cells": [
    {
      "cell_type": "markdown",
      "metadata": {
        "id": "view-in-github",
        "colab_type": "text"
      },
      "source": [
        "<a href=\"https://colab.research.google.com/github/rolang12/Python_RolanPineres/blob/main/Rgb_Hexa.ipynb\" target=\"_parent\"><img src=\"https://colab.research.google.com/assets/colab-badge.svg\" alt=\"Open In Colab\"/></a>"
      ]
    },
    {
      "cell_type": "code",
      "metadata": {
        "colab": {
          "base_uri": "https://localhost:8080/"
        },
        "id": "lTVILczGvHCy",
        "outputId": "15d24ead-5527-4ecd-f527-ecabc050bf29"
      },
      "source": [
        "red=int(input(\"Enter the Red color: \"))\n",
        "green=int(input(\"Enter the Green color: \"))\n",
        "blue=int(input(\"Enter the Blue color: \"))\n",
        "\n",
        "if (red>=0 and red<=255) and (green>=0 and green<=255) and (blue>=0 and blue<=255):\n",
        "# hex_color= '#{:02x}{:02x}{:02x}'.format(red,green,blue)\n",
        "# print(\"Hexadecimal value using format \",hex_color)\n",
        "\n",
        "# hexa_oldway = '#%02x%02x%02x'%(red, green, blue)\n",
        "# print(\"Hexadecimal value using old way is \",hexa_oldway)\n",
        "\n",
        "  rgb=[red, green, blue]\n",
        "  rgb_string = f'#{rgb[0]:02x}{rgb[1]:02x}{rgb[2]:02x}'\n",
        "  print(\"From Fstring with love: \",rgb_string)\n",
        "else:\n",
        "  print(\"You entered an invalid number, bye!\")"
      ],
      "execution_count": 9,
      "outputs": [
        {
          "output_type": "stream",
          "text": [
            "Enter the Red color: 256\n",
            "Enter the Green color: 20\n",
            "Enter the Blue color: 32\n",
            "You entered an invalid number, bye!\n"
          ],
          "name": "stdout"
        }
      ]
    }
  ]
}