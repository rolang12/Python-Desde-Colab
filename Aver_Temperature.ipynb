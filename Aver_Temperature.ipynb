{
  "nbformat": 4,
  "nbformat_minor": 0,
  "metadata": {
    "colab": {
      "name": "Aver_Temperature.ipynb",
      "provenance": [],
      "authorship_tag": "ABX9TyMUBEFBA6ABjS5K8S1pTMwr",
      "include_colab_link": true
    },
    "kernelspec": {
      "name": "python3",
      "display_name": "Python 3"
    },
    "language_info": {
      "name": "python"
    }
  },
  "cells": [
    {
      "cell_type": "markdown",
      "metadata": {
        "id": "view-in-github",
        "colab_type": "text"
      },
      "source": [
        "<a href=\"https://colab.research.google.com/github/rolang12/Python_RolanPineres/blob/main/Aver_Temperature.ipynb\" target=\"_parent\"><img src=\"https://colab.research.google.com/assets/colab-badge.svg\" alt=\"Open In Colab\"/></a>"
      ]
    },
    {
      "cell_type": "markdown",
      "metadata": {
        "id": "mo1FpPeXiJle"
      },
      "source": [
        "# Average temperature"
      ]
    },
    {
      "cell_type": "code",
      "metadata": {
        "id": "9Tvx0JI0NJZA",
        "colab": {
          "base_uri": "https://localhost:8080/"
        },
        "outputId": "a3201bd0-4ed8-40da-bc26-b2ea45aeafb1"
      },
      "source": [
        "allDays=int(input(\"How many day's temperature?\"))\n",
        "total=0\n",
        "temp=[]\n",
        "\n",
        "for i in range(allDays):\n",
        "  nextDay=int(input(f\"High temperature for day: {i+1} \"))\n",
        "  temp.append(nextDay)\n",
        "  total+=temp[i]\n",
        "\n",
        "average_temp = round(total/allDays, 2)\n",
        "print(\"Average temperature: \",average_temp)\n",
        "\n",
        "above_counter = 0\n",
        "lst_num_above = []\n",
        "\n",
        "for x in temp:\n",
        "  if x > average_temp:\n",
        "    lst_num_above.append(x)\n",
        "    above_counter+=1\n",
        "print(f\"Above Counter {above_counter} days above average {lst_num_above} \")\n",
        "\n"
      ],
      "execution_count": null,
      "outputs": [
        {
          "output_type": "stream",
          "text": [
            "How many day's temperature?9\n",
            "High temperature for day: 1 2\n",
            "High temperature for day: 2 5\n",
            "High temperature for day: 3 8\n",
            "High temperature for day: 4 10\n",
            "High temperature for day: 5 15\n",
            "High temperature for day: 6 36\n",
            "High temperature for day: 7 24\n",
            "High temperature for day: 8 58\n",
            "High temperature for day: 9 51\n",
            "Average temperature:  23.22222222222222\n",
            "Above Counter 4 days above average [36, 24, 58, 51] \n"
          ],
          "name": "stdout"
        }
      ]
    }
  ]
}