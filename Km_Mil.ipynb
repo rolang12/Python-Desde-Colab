{
  "cells": [
    {
      "cell_type": "markdown",
      "metadata": {
        "colab_type": "text",
        "id": "view-in-github"
      },
      "source": [
        "<a href=\"https://colab.research.google.com/github/rolang12/Python_RolanPineres/blob/main/Km_Mil.ipynb\" target=\"_parent\"><img src=\"https://colab.research.google.com/assets/colab-badge.svg\" alt=\"Open In Colab\"/></a>"
      ]
    },
    {
      "cell_type": "code",
      "execution_count": null,
      "metadata": {
        "colab": {
          "background_save": true
        },
        "id": "o8IKf3QCHOJe"
      },
      "outputs": [],
      "source": [
        "def menu_selection():\r\n",
        "  print(4*\"~\",'CONVERT KM TO MILES AND MILES TO KILOMETERS',4*\"~\")\r\n",
        "  print(\"Choose a type of conversion\")\r\n",
        "  print(\"[1] Km to Miles\")\r\n",
        "  print(\"[2] Miles to Km\")\r\n",
        "#EDIT\r\n",
        "main_loop=True\r\n",
        "\r\n",
        "while not main_loop==False:\r\n",
        "  menu_selection()\r\n",
        "  user_selection = str(input(\"So... What would u like to do? Enter your choice [1 or 2] \"))\r\n",
        "\r\n",
        "  if user_selection ==\"1\":\r\n",
        "    user_in_km = int(input(\"Enter the numbers of Kilometer would you like to convert: \"))\r\n",
        "    to_miles = user_in_km/1.6093\r\n",
        "    print(f\"{user_in_km} Km converts to {to_miles} \")\r\n",
        "    keep_converting=str(input(\"would you like to continue converting? [yes - no] \"))\r\n",
        "    if keep_converting==\"yes\":\r\n",
        "      continue\r\n",
        "    elif keep_converting==\"no\":\r\n",
        "      main_loop= False\r\n",
        "    else:\r\n",
        "      print(\"Wrong choice, Bye bye!\")\r\n",
        "      break\r\n",
        "  elif user_selection ==\"2\":\r\n",
        "      user_in_miles = int(input(\"Enter the numbers of Kilometer would you like to convert: \"))\r\n",
        "      to_kilometers = round(user_in_km*1.6093,3)\r\n",
        "      print(30*\"~\")\r\n",
        "      print(f\"{user_in_miles} Miles converts to {to_kilometers} kilometers \")\r\n",
        "      keep_converting=str(input(\"would you like to continue converting? [yes - no] \"))\r\n",
        "      if keep_converting==\"yes\":\r\n",
        "          continue\r\n",
        "      elif keep_converting==\"no\":\r\n",
        "        main_loop= False\r\n",
        "      else:\r\n",
        "        print(\"Wrong choice, Bye bye!\")\r\n",
        "        break\r\n",
        "\r\n",
        "'''def menu_selection():\r\n",
        "  print(4*\"~\",'CONVERT KM TO MILES AND MILES TO KILOMETERS',4*\"~\")\r\n",
        "  print(\"Choose a type of conversion\")\r\n",
        "  print(\"[1] Km to Miles\")\r\n",
        "  print(\"[2] Miles to Km\")\r\n",
        "\r\n",
        "def opcionu(user_selection):\r\n",
        "    user_in_km = int(input(\"Enter the numbers of Kilometer would you like to convert: \"))\r\n",
        "    to_miles = round(user_in_km/1.6093, 3)\r\n",
        "    return(1,'The convert is: ',to_miles,'The constant is: 1.6093')\r\n",
        "  \r\n",
        "def opciond(user_selection):\r\n",
        "    user_in_miles = int(input(\"Enter the numbers of Kilometer would you like to convert: \"))\r\n",
        "    to_kilometers = round(user_in_miles*1.6093,3)\r\n",
        "    return(\"2\",to_kilometers,\"1.6093\")\r\n",
        "\r\n",
        "main_loop=True  \r\n",
        "while not main_loop==False:\r\n",
        "    menu_selection()\r\n",
        "    user_selection = str(input(\"So... What would u like to do? Enter your choice [1 or 2] \"))\r\n",
        "    if user_selection ==\"1\":\r\n",
        "        print(opcionu(user_selection))\r\n",
        "\r\n",
        "    elif user_selection ==\"2\":\r\n",
        "        print(opciond(user_selection))\r\n",
        "\r\n",
        "    else:\r\n",
        "        main_loop=False\r\n",
        "    keep_converting=str(input(\"would you like to continue converting? [yes - no] \"))\r\n",
        "\r\n",
        "    if keep_converting==\"yes\":\r\n",
        "        menu_selection()\r\n",
        "        \r\n",
        "    elif keep_converting==\"no\":\r\n",
        "        break\r\n",
        "    else:\r\n",
        "        print(\"Wrong choice, Bye bye!\")\r\n",
        "        break\r\n",
        "'''\r\n",
        "\r\n",
        "\r\n",
        "\r\n",
        "    \r\n",
        "\r\n",
        "\r\n",
        "\r\n",
        "    \r\n",
        "\r\n",
        "    "
      ]
    }
  ],
  "metadata": {
    "colab": {
      "authorship_tag": "ABX9TyN4E72DVdEAum9lKnrr8siN",
      "collapsed_sections": [],
      "include_colab_link": true,
      "name": "Km_Mil.ipynb",
      "provenance": []
    },
    "interpreter": {
      "hash": "178b85da9f7bc7720f01dafe36e0c78afcba60e9e59f981ea4a3174c1224ceed"
    },
    "kernelspec": {
      "display_name": "Python 3.9.5 64-bit",
      "name": "python3"
    },
    "language_info": {
      "name": "python",
      "version": ""
    }
  },
  "nbformat": 4,
  "nbformat_minor": 0
}