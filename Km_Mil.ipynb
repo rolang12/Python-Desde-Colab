{
  "nbformat": 4,
  "nbformat_minor": 0,
  "metadata": {
    "colab": {
      "name": "Km_Mil.ipynb",
      "provenance": [],
      "collapsed_sections": [],
      "authorship_tag": "ABX9TyN4E72DVdEAum9lKnrr8siN",
      "include_colab_link": true
    },
    "kernelspec": {
      "display_name": "Python 3",
      "name": "python3"
    },
    "language_info": {
      "name": "python"
    }
  },
  "cells": [
    {
      "cell_type": "markdown",
      "metadata": {
        "id": "view-in-github",
        "colab_type": "text"
      },
      "source": [
        "<a href=\"https://colab.research.google.com/github/rolang12/Python_RolanPineres/blob/main/Km_Mil.ipynb\" target=\"_parent\"><img src=\"https://colab.research.google.com/assets/colab-badge.svg\" alt=\"Open In Colab\"/></a>"
      ]
    },
    {
      "cell_type": "code",
      "metadata": {
        "colab": {
          "background_save": true
        },
        "id": "o8IKf3QCHOJe"
      },
      "source": [
        "def menu_selection():\n",
        "  print(4*\"~\",'CONVERT KM TO MILES AND MILES TO KILOMETERS',4*\"~\")\n",
        "  print(\"Choose a type of conversion\")\n",
        "  print(\"[1] Km to Miles\")\n",
        "  print(\"[2] Miles to Km\")\n",
        "\n",
        "main_loop=True\n",
        "\n",
        "while not main_loop==False:\n",
        "  menu_selection()\n",
        "  user_selection = str(input(\"So... What would u like to do? Enter your choice [1 or 2] \"))\n",
        "\n",
        "  if user_selection ==\"1\":\n",
        "    user_in_km = int(input(\"Enter the numbers of Kilometer would you like to convert: \"))\n",
        "    to_miles = user_in_km/1.6093\n",
        "    print(f\"{user_in_km} Km converts to {to_miles} \")\n",
        "    keep_converting=str(input(\"would you like to continue converting? [yes - no] \"))\n",
        "    if keep_converting==\"yes\":\n",
        "      continue\n",
        "    elif keep_converting==\"no\":\n",
        "      main_loop= False\n",
        "    else:\n",
        "      print(\"Wrong choice, Bye bye!\")\n",
        "      break\n",
        "  elif user_selection ==\"2\":\n",
        "      user_in_miles = int(input(\"Enter the numbers of Kilometer would you like to convert: \"))\n",
        "      to_kilometers = round(user_in_km*1.6093,3)\n",
        "      print(30*\"~\")\n",
        "      print(f\"{user_in_miles} Miles converts to {to_kilometers} kilometers \")\n",
        "      keep_converting=str(input(\"would you like to continue converting? [yes - no] \"))\n",
        "      if keep_converting==\"yes\":\n",
        "          continue\n",
        "      elif keep_converting==\"no\":\n",
        "        main_loop= False\n",
        "      else:\n",
        "        print(\"Wrong choice, Bye bye!\")\n",
        "        break\n",
        "\n",
        "'''def menu_selection():\n",
        "  print(4*\"~\",'CONVERT KM TO MILES AND MILES TO KILOMETERS',4*\"~\")\n",
        "  print(\"Choose a type of conversion\")\n",
        "  print(\"[1] Km to Miles\")\n",
        "  print(\"[2] Miles to Km\")\n",
        "\n",
        "def opcionu(user_selection):\n",
        "    user_in_km = int(input(\"Enter the numbers of Kilometer would you like to convert: \"))\n",
        "    to_miles = round(user_in_km/1.6093, 3)\n",
        "    return(1,'The convert is: ',to_miles,'The constant is: 1.6093')\n",
        "  \n",
        "def opciond(user_selection):\n",
        "    user_in_miles = int(input(\"Enter the numbers of Kilometer would you like to convert: \"))\n",
        "    to_kilometers = round(user_in_miles*1.6093,3)\n",
        "    return(\"2\",to_kilometers,\"1.6093\")\n",
        "\n",
        "main_loop=True  \n",
        "while not main_loop==False:\n",
        "    menu_selection()\n",
        "    user_selection = str(input(\"So... What would u like to do? Enter your choice [1 or 2] \"))\n",
        "    if user_selection ==\"1\":\n",
        "        print(opcionu(user_selection))\n",
        "\n",
        "    elif user_selection ==\"2\":\n",
        "        print(opciond(user_selection))\n",
        "\n",
        "    else:\n",
        "        main_loop=False\n",
        "    keep_converting=str(input(\"would you like to continue converting? [yes - no] \"))\n",
        "\n",
        "    if keep_converting==\"yes\":\n",
        "        menu_selection()\n",
        "        \n",
        "    elif keep_converting==\"no\":\n",
        "        break\n",
        "    else:\n",
        "        print(\"Wrong choice, Bye bye!\")\n",
        "        break\n",
        "'''\n",
        "\n",
        "\n",
        "\n",
        "    \n",
        "\n",
        "\n",
        "\n",
        "    \n",
        "\n",
        "    "
      ],
      "execution_count": null,
      "outputs": []
    }
  ]
}